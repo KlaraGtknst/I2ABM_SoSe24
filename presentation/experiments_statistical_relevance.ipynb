{
 "cells": [
  {
   "cell_type": "code",
   "execution_count": 8,
   "metadata": {},
   "outputs": [],
   "source": [
    "import os\n",
    "import pandas as pd\n",
    "import numpy as np\n",
    "import matplotlib.pyplot as plt"
   ]
  },
  {
   "cell_type": "code",
   "execution_count": 9,
   "metadata": {},
   "outputs": [],
   "source": [
    "path2csv = './csv/'\n",
    "params = ['threshold-val', 'percent-grammar-1']"
   ]
  },
  {
   "cell_type": "code",
   "execution_count": 10,
   "metadata": {},
   "outputs": [],
   "source": [
    "def csv_to_df(path2csv):\n",
    "    dff_all_from_csv = []\n",
    "    print(path2csv)\n",
    "    \n",
    "    for root, dirs, files in os.walk(path2csv):\n",
    "        print(root, files)\n",
    "        for file in files:\n",
    "            if not file.endswith('.csv'):\n",
    "                continue\n",
    "            df = pd.read_csv(os.path.join(root, file), skiprows=range(0,6))\n",
    "            df.set_index(['[run number]', '[step]'], inplace=True)\n",
    "            dff_all_from_csv.append(df)\n",
    "    return dff_all_from_csv"
   ]
  },
  {
   "cell_type": "code",
   "execution_count": 11,
   "metadata": {},
   "outputs": [
    {
     "name": "stdout",
     "output_type": "stream",
     "text": [
      "./csv/\n",
      "./csv/ ['Language Change_converge_stop experiment1-individual-perc-table.csv', 'Language Change_converge_stop experiment3-threshold-perc-table.csv', 'Language Change_converge_stop experiment2-threshold-perc-thres-table.csv', 'Language Change_converge_stop experiment4-reward-perc-table.csv', 'Language Change_converge_stop experiment6-threshold-sink-state-table.csv', 'Language Change_converge_stop experiment5-threshold-thres-table.csv']\n"
     ]
    }
   ],
   "source": [
    "dff_all_from_csv = csv_to_df(path2csv)"
   ]
  },
  {
   "cell_type": "code",
   "execution_count": 12,
   "metadata": {},
   "outputs": [],
   "source": [
    "def t_test(vals1, vals2):\n",
    "    _, p_val = stats.ttest_ind(vals1, vals2)\n",
    "    if p_val < 0.05:\n",
    "        print(\"p-value is significant: \", p_val)\n",
    "    else:\n",
    "        print(\"p-value is not significant: \", p_val)"
   ]
  },
  {
   "cell_type": "code",
   "execution_count": 13,
   "metadata": {},
   "outputs": [
    {
     "name": "stdout",
     "output_type": "stream",
     "text": [
      "[122   4   9   1  62   6  39   4   6   0]\n",
      "p-value is not significant:  0.5433757442546482\n",
      "p-value is not significant:  0.19435375116462922\n",
      "p-value is not significant:  0.49920000740435133\n",
      "[200 200 200 200 200 200 200 200 200 200]\n",
      "p-value is significant:  2.534407016713576e-47\n",
      "p-value is significant:  1.0858618753364026e-45\n",
      "p-value is significant:  2.130126127468593e-05\n",
      "[  3   3   3   2   4   4   4   3   3   5   3 200 200 200 200 200 200 200\n",
      " 200 200 200 200 200 200 200 200 200 200 200 200 200 200 200 200 200 200\n",
      " 200 200 200 200 200 200 200 200 200 200 200 200 200 200 200 200 200 200\n",
      " 200 200 200 200 200 200 200 200 200 200 200 200 200 200 200 200 200 200\n",
      " 200 200 200 200 200 200 200 200 200 200 200 200 200 200 200 200 200 200]\n",
      "p-value is significant:  3.7158435786910234e-27\n",
      "p-value is significant:  6.164809956869085e-08\n",
      "p-value is significant:  1.3305825081510619e-06\n"
     ]
    },
    {
     "name": "stderr",
     "output_type": "stream",
     "text": [
      "/Users/klara/Developer/Uni/SoSe24/I2ABM/edu_introabm_exercise/I2ABM_env/lib/python3.11/site-packages/scipy/stats/_axis_nan_policy.py:531: RuntimeWarning: Precision loss occurred in moment calculation due to catastrophic cancellation. This occurs when the data are nearly identical. Results may be unreliable.\n",
      "  res = hypotest_fun_out(*samples, **kwds)\n"
     ]
    },
    {
     "name": "stdout",
     "output_type": "stream",
     "text": [
      "[165164 163195 162615 165485 131649 158571 157888 162652 158502]\n",
      "p-value is not significant:  nan\n",
      "p-value is not significant:  nan\n",
      "p-value is not significant:  nan\n",
      "[]\n",
      "p-value is not significant:  nan\n",
      "p-value is not significant:  nan\n",
      "p-value is not significant:  nan\n",
      "[]\n",
      "p-value is not significant:  nan\n",
      "p-value is not significant:  nan\n",
      "p-value is not significant:  nan\n"
     ]
    }
   ],
   "source": [
    "# statistical relevance: t-test\n",
    "from scipy import stats\n",
    "\n",
    "for experiment_df in dff_all_from_csv:\n",
    "    p = 'percent-grammar-1' \n",
    "    vals2test = [10, 60, 90]\n",
    "    steps_p = {}\n",
    "    for val in vals2test:\n",
    "        temp_df = experiment_df.reset_index(inplace=False).groupby([p, \"[run number]\"]).max()[\"[step]\"].reset_index(inplace=False)\n",
    "        steps_p[val] = temp_df[temp_df[p] == val]['[step]'].values\n",
    "\n",
    "    print(steps_p[10])\n",
    "    # thresholds p 0.1 vs 0.9\n",
    "    t_test(steps_p[10], steps_p[90])\n",
    "\n",
    "    # thresholds p 0.1 vs 0.6\n",
    "    t_test(steps_p[10], steps_p[60])\n",
    "\n",
    "    # thresholds p 0.6 vs 0.9\n",
    "    t_test(steps_p[60], steps_p[90])"
   ]
  },
  {
   "cell_type": "markdown",
   "metadata": {},
   "source": [
    "Language Change_converge_stop experiment1-individual-perc-table.csv: percent-grammar-1 is significant for the time it takes until convergence"
   ]
  }
 ],
 "metadata": {
  "kernelspec": {
   "display_name": "I2ABM_env",
   "language": "python",
   "name": "python3"
  },
  "language_info": {
   "codemirror_mode": {
    "name": "ipython",
    "version": 3
   },
   "file_extension": ".py",
   "mimetype": "text/x-python",
   "name": "python",
   "nbconvert_exporter": "python",
   "pygments_lexer": "ipython3",
   "version": "3.11.9"
  }
 },
 "nbformat": 4,
 "nbformat_minor": 2
}
