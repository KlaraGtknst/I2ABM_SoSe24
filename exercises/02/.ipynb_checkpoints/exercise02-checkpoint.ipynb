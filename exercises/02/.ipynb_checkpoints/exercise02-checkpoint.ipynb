{
 "cells": [
  {
   "cell_type": "markdown",
   "id": "5dad91b6-7b78-4033-8014-1b5f05b2cb43",
   "metadata": {},
   "source": [
    "# Exercise 04"
   ]
  },
  {
   "cell_type": "markdown",
   "id": "2fa00b06-6e3c-4f6e-8bbd-c0f4b7d2eadc",
   "metadata": {
    "tags": []
   },
   "source": [
    "# Task 01: Setting up the development environment\n",
    "\n",
    "After following instructions on the worksheet, execute the following python cell:"
   ]
  },
  {
   "cell_type": "code",
   "id": "34cf95e3-b6f7-4bc5-8b7a-e3a7bc4551b4",
   "metadata": {
    "ExecuteTime": {
     "end_time": "2024-04-25T12:39:44.647666Z",
     "start_time": "2024-04-25T12:39:44.485784Z"
    }
   },
   "source": [
    "import spyder\n",
    "import os, sys\n",
    "\n",
    "# check python version\n",
    "print(\"Python version: \", sys.version)\n",
    "\n",
    "# check spyder\n",
    "print(\"Spider version: \", spyder.__version__)\n",
    "\n",
    "# check git\n",
    "os.system('git --version')"
   ],
   "outputs": [
    {
     "name": "stdout",
     "output_type": "stream",
     "text": [
      "Python version:  3.11.6 (main, Oct  2 2023, 13:45:54) [Clang 15.0.0 (clang-1500.0.40.1)]\n",
      "Spider version:  5.5.4\n",
      "git version 2.43.0\n"
     ]
    },
    {
     "data": {
      "text/plain": [
       "0"
      ]
     },
     "execution_count": 2,
     "metadata": {},
     "output_type": "execute_result"
    }
   ],
   "execution_count": 2
  },
  {
   "cell_type": "markdown",
   "id": "c3dcebf0-0366-4d32-bb0c-9f0c0c9ae47f",
   "metadata": {},
   "source": [
    "# Task 02: Mesa tutorial"
   ]
  },
  {
   "cell_type": "code",
   "id": "21efd75e-463b-4c45-a59b-b4eeacbc536a",
   "metadata": {
    "ExecuteTime": {
     "end_time": "2024-04-25T12:39:44.650481Z",
     "start_time": "2024-04-25T12:39:44.648732Z"
    }
   },
   "source": [
    "# Place the tutorial execution commands here:"
   ],
   "outputs": [],
   "execution_count": 3
  }
 ],
 "metadata": {
  "kernelspec": {
   "display_name": "Python 3 (ipykernel)",
   "language": "python",
   "name": "python3"
  },
  "language_info": {
   "codemirror_mode": {
    "name": "ipython",
    "version": 3
   },
   "file_extension": ".py",
   "mimetype": "text/x-python",
   "name": "python",
   "nbconvert_exporter": "python",
   "pygments_lexer": "ipython3",
   "version": "3.10.12"
  }
 },
 "nbformat": 4,
 "nbformat_minor": 5
}
